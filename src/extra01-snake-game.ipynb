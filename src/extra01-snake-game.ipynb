{
 "cells": [
  {
   "cell_type": "code",
   "execution_count": 36,
   "metadata": {},
   "outputs": [],
   "source": [
    "import cv2\n",
    "import numpy as np\n",
    "import random\n",
    "from matplotlib import pyplot as plt\n",
    "from snake.imagering import trasitionExtend"
   ]
  },
  {
   "cell_type": "code",
   "execution_count": 37,
   "metadata": {},
   "outputs": [],
   "source": [
    "random.seed(123)"
   ]
  },
  {
   "cell_type": "code",
   "execution_count": 43,
   "metadata": {},
   "outputs": [],
   "source": [
    "%matplotlib inline\n",
    "\n",
    "def printBoard(board, i = 0):\n",
    "    filename = \"video/\" + str(i).rjust(10, \"0\") + \".jpg\"\n",
    "    plt.ioff()\n",
    "    plt.figure(figsize=(8, 8))\n",
    "    plt.axis('off')\n",
    "    plt.imshow(board, cmap='gray', vmin=0, vmax=1)\n",
    "    plt.savefig(filename, bbox_inches='tight')\n",
    "    plt.close()\n",
    "    # plt.show()\n",
    "    # im = Image.fromarray(board)\n",
    "    # im = im.convert('RGB')\n",
    "    # save_filename=filename\n",
    "    # im.save(save_filename, \"JPEG\")"
   ]
  },
  {
   "cell_type": "code",
   "execution_count": 39,
   "metadata": {},
   "outputs": [],
   "source": [
    "board = np.zeros((50,50),dtype=np.float32)"
   ]
  },
  {
   "cell_type": "code",
   "execution_count": 40,
   "metadata": {},
   "outputs": [],
   "source": [
    "board[5, 3] = 0.5\n",
    "board[31, 3:15] = 1\n",
    "printBoard(board)"
   ]
  },
  {
   "cell_type": "code",
   "execution_count": 41,
   "metadata": {},
   "outputs": [],
   "source": [
    "class Snake:\n",
    "    LEFT, RIGHT, UP, DOWN = [(0,1), (0,-1), (-1,0), (1,0)]\n",
    "\n",
    "    def __init__(self) -> None:\n",
    "        self.body = [(24, 24)]\n",
    "        self.dir = self.LEFT\n",
    "    \n",
    "    def move(self, grow=False) -> bool: # return if had collision\n",
    "        head = self.body[0] # head positions\n",
    "        newHead = (head[0] + self.dir[0], head[1] + self.dir[1])\n",
    "\n",
    "        if ( newHead[0] < 0 or newHead [0] > 49):\n",
    "            return True # collision\n",
    "        if ( newHead[1] < 0 or newHead [1] > 49):\n",
    "            return True # collision\n",
    "        \n",
    "        for part in self.body:\n",
    "            if(newHead == part):\n",
    "                return True # collision\n",
    "        \n",
    "        self.body.insert(0, newHead)\n",
    "        if not grow:\n",
    "            self.body.pop()\n",
    "        return False\n",
    "    \n",
    "    def setDir(self, dir):\n",
    "        sum = self.dir[0] + dir[0] + self.dir[1] + dir[1]\n",
    "        if sum != 0:\n",
    "            self.dir = dir\n",
    "    \n",
    "    def getHead(self):\n",
    "        return self.body[0]\n",
    "    \n",
    "    def print(self, board):\n",
    "        for part in self.body:\n",
    "            board[part[0], part[1]] = 1\n"
   ]
  },
  {
   "cell_type": "code",
   "execution_count": 48,
   "metadata": {},
   "outputs": [],
   "source": [
    "board = np.zeros((50,50),dtype=np.float32)\n",
    "collision = False\n",
    "snake = Snake()\n",
    "steps = []\n",
    "\n",
    "while not collision:\n",
    "    board.fill(0)\n",
    "    collision = snake.move()\n",
    "    snake.print(board)\n",
    "    steps.append(board.copy())\n",
    "\n",
    "for i in range(len(steps)):\n",
    "    printBoard(steps[i], i)\n",
    "        \n",
    "# ffmpeg -framerate 30 -pattern_type glob -i \"*.jpg\" output.avi"
   ]
  }
 ],
 "metadata": {
  "kernelspec": {
   "display_name": ".nnd-venv",
   "language": "python",
   "name": "python3"
  },
  "language_info": {
   "codemirror_mode": {
    "name": "ipython",
    "version": 3
   },
   "file_extension": ".py",
   "mimetype": "text/x-python",
   "name": "python",
   "nbconvert_exporter": "python",
   "pygments_lexer": "ipython3",
   "version": "3.10.6"
  },
  "orig_nbformat": 4,
  "vscode": {
   "interpreter": {
    "hash": "d0a8198fecb675787b5bf0aa3537fd20005802b5d7e9a7befc36974e8f348c07"
   }
  }
 },
 "nbformat": 4,
 "nbformat_minor": 2
}
