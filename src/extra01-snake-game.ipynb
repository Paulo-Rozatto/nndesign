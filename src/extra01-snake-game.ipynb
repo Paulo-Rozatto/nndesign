{
 "cells": [
  {
   "cell_type": "code",
   "execution_count": 72,
   "metadata": {},
   "outputs": [],
   "source": [
    "import cv2\n",
    "import numpy as np\n",
    "import random\n",
    "from matplotlib import pyplot as plt\n",
    "from snake.imagering import trasitionExtend\n",
    "from components.layer import Layer\n",
    "from components.network import Network\n",
    "from components.activations import logsig, satlins"
   ]
  },
  {
   "cell_type": "code",
   "execution_count": 2,
   "metadata": {},
   "outputs": [],
   "source": [
    "random.seed(123)"
   ]
  },
  {
   "cell_type": "code",
   "execution_count": 116,
   "metadata": {},
   "outputs": [],
   "source": [
    "%matplotlib inline\n",
    "\n",
    "def printBoard(board, i = 0):\n",
    "    filename = \"video/\" + str(i).rjust(10, \"0\") + \".jpg\"\n",
    "    plt.ioff()\n",
    "    plt.figure(figsize=(8, 8))\n",
    "    plt.axis('off')\n",
    "    plt.imshow(board, cmap='gray', vmin=0, vmax=1)\n",
    "    plt.savefig(filename, bbox_inches='tight')\n",
    "    plt.close()\n",
    "    # plt.show()\n",
    "    # im = Image.fromarray(board)\n",
    "    # im = im.convert('RGB')\n",
    "    # save_filename=filename\n",
    "    # im.save(save_filename, \"JPEG\")"
   ]
  },
  {
   "cell_type": "code",
   "execution_count": null,
   "metadata": {},
   "outputs": [],
   "source": [
    "board = np.zeros((50,50),dtype=np.float32)"
   ]
  },
  {
   "cell_type": "code",
   "execution_count": null,
   "metadata": {},
   "outputs": [],
   "source": [
    "board[5, 3] = 0.5\n",
    "board[31, 3:15] = 1\n",
    "printBoard(board)"
   ]
  },
  {
   "cell_type": "code",
   "execution_count": 124,
   "metadata": {},
   "outputs": [],
   "source": [
    "class Snake:\n",
    "    LEFT, RIGHT, UP, DOWN = [(0,1), (0,-1), (-1,0), (1,0)]\n",
    "\n",
    "    def __init__(self, brain) -> None:\n",
    "        self._body = [(24, 24)]\n",
    "        self._dir = self.LEFT\n",
    "        self.total_moves = 0\n",
    "        self.total_grows = 0\n",
    "        self.brain = brain\n",
    "    \n",
    "    def move(self, grow=False) -> bool: # return if had collision\n",
    "        head = self._body[0] # head positions\n",
    "        newHead = (head[0] + self._dir[0], head[1] + self._dir[1])\n",
    "\n",
    "        if ( newHead[0] < 0 or newHead [0] > 49):\n",
    "            return True # collision\n",
    "        if ( newHead[1] < 0 or newHead [1] > 49):\n",
    "            return True # collision\n",
    "        \n",
    "        for part in self._body:\n",
    "            if(newHead == part):\n",
    "                return True # collision\n",
    "        \n",
    "        self._body.insert(0, newHead)\n",
    "        if not grow:\n",
    "            self._body.pop()\n",
    "        return False\n",
    "    \n",
    "    def think(self, board):\n",
    "        block_distances = []\n",
    "        food_distances = []\n",
    "\n",
    "        for i in range(-1, 2):\n",
    "            for j in range(-1, 2):\n",
    "                if j == i == 0:\n",
    "                    continue\n",
    "                block_distances.append(self._calc_dis(i, j, 1, board)) \n",
    "                food_distances.append(self._calc_dis(i, j, 0.5, board, True))\n",
    "\n",
    "        tail_dir = self._dir\n",
    "        if(self.total_grows > 0):\n",
    "            prev= self._body[-2]\n",
    "            tail = self._body[-1]\n",
    "            tail_dir = ( prev[0] - tail[0], prev[1] - tail[1] )\n",
    "        \n",
    "        food_distances = food_distances / np.linalg.norm(food_distances)\n",
    "        block_distances = block_distances / np.linalg.norm(block_distances)\n",
    "        input = [*food_distances, *block_distances, *self._dir, *tail_dir, self.total_grows ]\n",
    "        output = self.brain.activate(input)\n",
    "        index = 0\n",
    "        max = output[0]\n",
    "        for i in range(1, 4):\n",
    "            if (output[i] > max):\n",
    "                max = output[i]\n",
    "                index = i\n",
    "        if index == 0:\n",
    "            self._dir = self.LEFT\n",
    "        elif index == 1:\n",
    "            self._dir = self.RIGHT\n",
    "        elif index == 2:\n",
    "            self._dir = self.UP\n",
    "        else:\n",
    "            self._dir = self.DOWN\n",
    "    \n",
    "    def _calc_dis(self, x, y, goal, board, hundredIfNotFound = False):\n",
    "        i, j = self.getHead()\n",
    "        dist = 0\n",
    "        found = False\n",
    "\n",
    "        while (i < 49 and j < 49 and i > 0 and j > 0):\n",
    "            i += x\n",
    "            j += y\n",
    "            dist += 1\n",
    "            if(board[i][j] == goal):\n",
    "                found = True\n",
    "                break\n",
    "        if found or not hundredIfNotFound: \n",
    "            return dist\n",
    "        return 100\n",
    "        \n",
    "        \n",
    "\n",
    "    \n",
    "    def setDir(self, dir):\n",
    "        sum = self._dir[0] + dir[0] + self._dir[1] + dir[1]\n",
    "        if sum != 0:\n",
    "            self._dir = dir\n",
    "    \n",
    "    def getHead(self):\n",
    "        return self._body[0]\n",
    "    \n",
    "    def print(self, board):\n",
    "        for part in self._body:\n",
    "            board[part[0], part[1]] = 1\n"
   ]
  },
  {
   "cell_type": "code",
   "execution_count": 98,
   "metadata": {},
   "outputs": [
    {
     "data": {
      "text/plain": [
       "[1, 2, 3]"
      ]
     },
     "execution_count": 98,
     "metadata": {},
     "output_type": "execute_result"
    }
   ],
   "source": [
    "x= (1, 2)\n",
    "[*x, 3]"
   ]
  },
  {
   "cell_type": "code",
   "execution_count": null,
   "metadata": {},
   "outputs": [],
   "source": [
    "board = np.zeros((50,50),dtype=np.float32)\n",
    "collision = False\n",
    "snake = Snake()\n",
    "steps = []\n",
    "\n",
    "while not collision:\n",
    "    board.fill(0)\n",
    "    collision = snake.move()\n",
    "    snake.print(board)\n",
    "    steps.append(board.copy())\n",
    "\n",
    "for i in range(len(steps)):\n",
    "    printBoard(steps[i], i)\n",
    "        \n",
    "# ffmpeg -framerate 30 -pattern_type glob -i \"*.jpg\" output.avi"
   ]
  },
  {
   "attachments": {},
   "cell_type": "markdown",
   "metadata": {},
   "source": [
    "### Brain 1\n",
    "- 8 distances food in the direction (negative if there insn't)\n",
    "- 8 distances to obstruction\n",
    "- 2 current head direction\n",
    "- 2 current tail direction\n",
    "- 1 current size\n",
    "\n",
    "i:21x1 -> h:21x21 -> h:14x21 -> o:4x14 -> 4x1"
   ]
  },
  {
   "cell_type": "code",
   "execution_count": 119,
   "metadata": {},
   "outputs": [],
   "source": [
    "def brain1():\n",
    "    return Network([\n",
    "        Layer(\n",
    "            weights = (np.random.rand(21, 21) - 0.5),\n",
    "            biases = np.random.rand(21, 1) - 0.5,\n",
    "            activations=satlins\n",
    "        ),\n",
    "        Layer(\n",
    "            weights = (np.random.rand(14, 21) - 0.5),\n",
    "            biases = np.random.rand(14, 1),\n",
    "            activations=satlins\n",
    "        ),\n",
    "        Layer(\n",
    "            weights = (np.random.rand(4, 14) - 0.5) * -2,\n",
    "            biases = np.random.rand(4, 1),\n",
    "            activations=logsig\n",
    "        )\n",
    "    ])"
   ]
  },
  {
   "cell_type": "code",
   "execution_count": 150,
   "metadata": {},
   "outputs": [],
   "source": [
    "board = np.zeros((50,50),dtype=np.float32)\n",
    "collision = False\n",
    "snake = Snake(brain1())\n",
    "steps = []\n",
    "food_pos = (5, 25)\n",
    "eaten_food = False\n",
    "\n",
    "def rand_food(board, depth = 0):\n",
    "    if(depth > 30):\n",
    "        exit(1)\n",
    "    food_pos = (random.randint(0, 49), random.randint(0, 49))\n",
    "    if(board[food_pos[0]][food_pos[1]] == 1):\n",
    "        return rand_food(board, depth + 1)\n",
    "    return food_pos\n",
    "\n",
    "while not collision:\n",
    "    board.fill(0)\n",
    "    board[food_pos[0], food_pos[1]] = 0.5\n",
    "    collision = snake.move(grow=eaten_food)\n",
    "    snake.print(board)\n",
    "    eaten_food = food_pos == snake.getHead()\n",
    "    if eaten_food:\n",
    "        food_pos = rand_food(board)\n",
    "        board[food_pos[0], food_pos[1]] = 0.5\n",
    "    snake.think(board)\n",
    "    steps.append(board.copy())\n",
    "\n",
    "# for i in range(len(steps)):\n",
    "#     printBoard(steps[i], i)"
   ]
  }
 ],
 "metadata": {
  "kernelspec": {
   "display_name": ".nnd-venv",
   "language": "python",
   "name": "python3"
  },
  "language_info": {
   "codemirror_mode": {
    "name": "ipython",
    "version": 3
   },
   "file_extension": ".py",
   "mimetype": "text/x-python",
   "name": "python",
   "nbconvert_exporter": "python",
   "pygments_lexer": "ipython3",
   "version": "3.10.6"
  },
  "orig_nbformat": 4,
  "vscode": {
   "interpreter": {
    "hash": "d0a8198fecb675787b5bf0aa3537fd20005802b5d7e9a7befc36974e8f348c07"
   }
  }
 },
 "nbformat": 4,
 "nbformat_minor": 2
}
