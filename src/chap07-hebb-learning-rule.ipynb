{
 "cells": [
  {
   "attachments": {},
   "cell_type": "markdown",
   "metadata": {},
   "source": [
    "## Hebb's learning rule\n",
    "\n",
    "> **Postulate:**\n",
    ">   When an axon of cell A is near enough to excite a cell B adn reapeatedly or persistently takes part in firing it, some growth [...] takes place in one or both cells such that A's efficiency, as one of the cells firing B, is increased.\n",
    "\n",
    "**Linear associator network:** \n",
    "\n",
    "$a = Wp \\rightarrow a_i = \\Sigma_{j=1}^R w_{ij}p_j$\n",
    "\n",
    "**Unsupervised rule:** \n",
    "\n",
    "$w_{i,j}^{new} = w_{i,j}^{old} + \\alpha  f(a_{iq}) g(p_{jq})$\n",
    "\n",
    "**Supervised rule:** \n",
    "\n",
    "$w_{i,j}^{new} = w_{i,j}^{old} +  t_{iq} p_{jq}$ \n",
    "\n",
    "$ W^{new} = W^{old} + t_q p_q^t$\n",
    "\n",
    "**Matrix of weights starting from $O$:** \n",
    "\n",
    "$W = TP^t$\n",
    "\n",
    "**Minimized error matrix of weights:**\n",
    "\n",
    "$W=TP^{+}$\n",
    "\n",
    "$P^{+} = (P^tP)^{-1}P^t$, (pseudo inverse)"
   ]
  },
  {
   "cell_type": "code",
   "execution_count": 34,
   "metadata": {},
   "outputs": [],
   "source": [
    "import numpy as np\n",
    "import cv2 as cv\n",
    "from matplotlib import pyplot as plt\n",
    "from components.layer import Layer\n",
    "from components.activations import hardlims"
   ]
  },
  {
   "attachments": {},
   "cell_type": "markdown",
   "metadata": {},
   "source": [
    "## Dataset \n",
    "Simple binary images 6x5 of the numbers 0, 1 and 2."
   ]
  },
  {
   "cell_type": "code",
   "execution_count": 35,
   "metadata": {},
   "outputs": [
    {
     "data": {
      "image/png": "[encoded data removed]",
      "text/plain": [
       "<Figure size 1200x1800 with 3 Axes>"
      ]
     },
     "metadata": {},
     "output_type": "display_data"
    }
   ],
   "source": [
    "digits = [\n",
    "    np.array([\n",
    "        [-1, 1, 1, 1, -1],\n",
    "        [1, -1, -1, -1, 1],\n",
    "        [1, -1, -1, -1, 1],\n",
    "        [1, -1, -1, -1, 1],\n",
    "        [1, -1, -1, -1, 1],\n",
    "        [-1, 1, 1, 1, -1],\n",
    "    ], dtype=np.int8),\n",
    "\n",
    "    np.array([\n",
    "        [-1, 1, 1, -1, -1],\n",
    "        [-1, -1, 1, -1, -1],\n",
    "        [-1, -1, 1, -1, -1],\n",
    "        [-1, -1, 1, -1, -1],\n",
    "        [-1, -1, 1, -1, -1],\n",
    "        [-1, -1, 1, -1, -1],\n",
    "    ], dtype=np.int8),\n",
    "\n",
    "    np.array([\n",
    "        [1, 1, 1, -1, -1],\n",
    "        [-1, -1, -1, 1, -1],\n",
    "        [-1, -1, -1, 1, -1],\n",
    "        [-1, 1, 1, -1, -1],\n",
    "        [-1, 1, -1, -1, -1],\n",
    "        [-1, 1, 1, 1, 1],\n",
    "    ], dtype=np.int8),\n",
    "]\n",
    "\n",
    "fig = plt.figure(figsize=(12, 18))\n",
    "fig.patch.set_facecolor([0,0,0])\n",
    "\n",
    "plotIdx = 1\n",
    "for img in digits:\n",
    "    ax = plt.subplot(1, 4, plotIdx)\n",
    "    plt.axis('off')\n",
    "    plt.imshow(img, cmap='gray', vmin=0, vmax=1)\n",
    "    plotIdx += 1\n",
    "plt.show()"
   ]
  },
  {
   "attachments": {},
   "cell_type": "markdown",
   "metadata": {},
   "source": [
    "### Network\n",
    "\n",
    "$a = hardlims(Wp)$"
   ]
  },
  {
   "cell_type": "code",
   "execution_count": 36,
   "metadata": {},
   "outputs": [],
   "source": [
    "net = Layer([])\n",
    "net.set_activations([hardlims for i in range(0,30)])\n",
    "net.set_biases([0 for i in range(0,30)])"
   ]
  },
  {
   "attachments": {},
   "cell_type": "markdown",
   "metadata": {},
   "source": [
    "### Training"
   ]
  },
  {
   "cell_type": "code",
   "execution_count": 37,
   "metadata": {},
   "outputs": [],
   "source": [
    "# p = t, the training inputs are the desired outputs prototypes\n",
    "\n",
    "p1, p2, p3 = [arr.flatten() for arr in digits]\n",
    "P = np.array([p1, p2, p3])\n",
    "T = np.array([p1, p2, p3])\n",
    "\n",
    "\n",
    "W = np.matmul(P.T, T)\n",
    "net.set_weights(W.tolist())"
   ]
  },
  {
   "cell_type": "markdown",
   "metadata": {},
   "source": [
    "### Recovering 1/2"
   ]
  },
  {
   "cell_type": "code",
   "execution_count": 39,
   "metadata": {},
   "outputs": [
    {
     "data": {
      "image/png": "[encoded data removed]",
      "text/plain": [
       "<Figure size 600x600 with 6 Axes>"
      ]
     },
     "metadata": {},
     "output_type": "display_data"
    }
   ],
   "source": [
    "def plotImg(idx, img):\n",
    "    plt.subplot(3, 2, idx)\n",
    "    plt.axis('off')\n",
    "    plt.imshow(img, cmap='gray', vmin=0, vmax=1)\n",
    "\n",
    "def test():\n",
    "    half_digits = [\n",
    "        np.array([\n",
    "            [-1, 1, 1, 1, -1],\n",
    "            [1, -1, -1, -1, 1],\n",
    "            [1, -1, -1, -1, 1],\n",
    "            [-1, -1, -1, -1, -1],\n",
    "            [-1, -1, -1, -1, -1],\n",
    "            [-1, -1, -1, -1, -1],\n",
    "        ], dtype=np.int8),\n",
    "\n",
    "        np.array([\n",
    "            [-1, 1, 1, -1, -1],\n",
    "            [-1, -1, 1, -1, -1],\n",
    "            [-1, -1, 1, -1, -1],\n",
    "            [-1, -1, -1, -1, -1],\n",
    "            [-1, -1, -1, -1, -1],\n",
    "            [-1, -1, -1, -1, -1],\n",
    "        ], dtype=np.int8),\n",
    "\n",
    "        np.array([\n",
    "            [1, 1, 1, -1, -1],\n",
    "            [-1, -1, -1, 1, -1],\n",
    "            [-1, -1, -1, 1, -1],\n",
    "            [-1, -1, -1, -1, -1],\n",
    "            [-1, -1, -1, -1, -1],\n",
    "            [-1, -1, -1, -1, -1],\n",
    "        ], dtype=np.int8),\n",
    "    ]\n",
    "\n",
    "\n",
    "    fig = plt.figure(figsize=(6, 6))\n",
    "    fig.patch.set_facecolor([0,0,0])\n",
    "\n",
    "    plotIdx = 1\n",
    "    for digit in half_digits:\n",
    "        plotImg(plotIdx, digit)\n",
    "        plotIdx += 1\n",
    "\n",
    "        flatten = digit.flatten().tolist()\n",
    "        result = net.activate(flatten)\n",
    "\n",
    "        result = np.array(result).reshape((6,5))\n",
    "        plotImg(plotIdx, result)\n",
    "        plotIdx += 1\n",
    "\n",
    "test()"
   ]
  }
 ],
 "metadata": {
  "kernelspec": {
   "display_name": ".nnd-venv",
   "language": "python",
   "name": "python3"
  },
  "language_info": {
   "codemirror_mode": {
    "name": "ipython",
    "version": 3
   },
   "file_extension": ".py",
   "mimetype": "text/x-python",
   "name": "python",
   "nbconvert_exporter": "python",
   "pygments_lexer": "ipython3",
   "version": "3.10.6"
  },
  "orig_nbformat": 4,
  "vscode": {
   "interpreter": {
    "hash": "d0a8198fecb675787b5bf0aa3537fd20005802b5d7e9a7befc36974e8f348c07"
   }
  }
 },
 "nbformat": 4,
 "nbformat_minor": 2
}
